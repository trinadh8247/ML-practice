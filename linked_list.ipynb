{
 "cells": [
  {
   "cell_type": "code",
   "execution_count": 20,
   "id": "89066a0c-3a98-4fd7-8169-db39bff0fe7e",
   "metadata": {},
   "outputs": [],
   "source": [
    "class ListNode:\n",
    "    def __init__(self, val=0, next=None):\n",
    "        self.val = val\n",
    "        self.next = next\n",
    "def traverse(head):\n",
    "    while head :\n",
    "        print(head.val)\n",
    "        head=head.next\n",
    "def list_to_linked(l):\n",
    "    head=ListNode(l[0])\n",
    "    temp=head\n",
    "    for i in range(1,len(l)):\n",
    "        temp.next=ListNode(l[i])\n",
    "        temp=temp.next\n",
    "    print('linked list created success')\n",
    "    return head\n",
    "def reverse(head):\n",
    "    curr=head\n",
    "    pre=None\n",
    "    while curr:\n",
    "        next_=curr.next\n",
    "        curr.next=pre\n",
    "        pre=curr\n",
    "        curr=next_\n",
    "    return pre"
   ]
  },
  {
   "cell_type": "code",
   "execution_count": 21,
   "id": "17abca9b-1ee5-4ab4-a529-edd0f5bc01bf",
   "metadata": {},
   "outputs": [
    {
     "name": "stdout",
     "output_type": "stream",
     "text": [
      "linked list created success\n"
     ]
    }
   ],
   "source": [
    "l=list('123456789')\n",
    "link1=ListNode()\n",
    "x=list_to_linked(l)"
   ]
  },
  {
   "cell_type": "code",
   "execution_count": 22,
   "id": "0d6822fa-b633-40a0-b81e-db58a287d720",
   "metadata": {},
   "outputs": [
    {
     "name": "stdout",
     "output_type": "stream",
     "text": [
      "1\n",
      "2\n",
      "3\n",
      "4\n",
      "5\n",
      "6\n",
      "7\n",
      "8\n",
      "9\n"
     ]
    }
   ],
   "source": [
    "traverse(x)"
   ]
  },
  {
   "cell_type": "code",
   "execution_count": 23,
   "id": "0ffa4f3c-796e-4d22-b186-da640ef5198c",
   "metadata": {},
   "outputs": [],
   "source": [
    "reversed_=reverse(x)"
   ]
  },
  {
   "cell_type": "code",
   "execution_count": 24,
   "id": "c4f82ce1-9043-48dd-ba5b-0bc58ea563f8",
   "metadata": {},
   "outputs": [
    {
     "name": "stdout",
     "output_type": "stream",
     "text": [
      "9\n",
      "8\n",
      "7\n",
      "6\n",
      "5\n",
      "4\n",
      "3\n",
      "2\n",
      "1\n"
     ]
    }
   ],
   "source": [
    "traverse(reversed_)"
   ]
  },
  {
   "cell_type": "code",
   "execution_count": null,
   "id": "b85b6fd7-46ff-4b30-ac9f-a01e4dba67db",
   "metadata": {},
   "outputs": [],
   "source": []
  }
 ],
 "metadata": {
  "kernelspec": {
   "display_name": "Python 3 (ipykernel)",
   "language": "python",
   "name": "python3"
  },
  "language_info": {
   "codemirror_mode": {
    "name": "ipython",
    "version": 3
   },
   "file_extension": ".py",
   "mimetype": "text/x-python",
   "name": "python",
   "nbconvert_exporter": "python",
   "pygments_lexer": "ipython3",
   "version": "3.12.4"
  }
 },
 "nbformat": 4,
 "nbformat_minor": 5
}
