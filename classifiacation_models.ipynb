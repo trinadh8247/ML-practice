{
  "nbformat": 4,
  "nbformat_minor": 0,
  "metadata": {
    "colab": {
      "provenance": [],
      "authorship_tag": "ABX9TyNqgLee3yoSsdbthPyJbWd5",
      "include_colab_link": true
    },
    "kernelspec": {
      "name": "python3",
      "display_name": "Python 3"
    },
    "language_info": {
      "name": "python"
    }
  },
  "cells": [
    {
      "cell_type": "markdown",
      "metadata": {
        "id": "view-in-github",
        "colab_type": "text"
      },
      "source": [
        "<a href=\"https://colab.research.google.com/github/trinadh8247/ML-practice/blob/main/classifiacation_models.ipynb\" target=\"_parent\"><img src=\"https://colab.research.google.com/assets/colab-badge.svg\" alt=\"Open In Colab\"/></a>"
      ]
    },
    {
      "cell_type": "markdown",
      "source": [
        "## Logistics regression using formula"
      ],
      "metadata": {
        "id": "J8appIHfEIuX"
      }
    },
    {
      "cell_type": "code",
      "execution_count": 16,
      "metadata": {
        "id": "xQWZn8HvD31J"
      },
      "outputs": [],
      "source": [
        "import pandas as pd\n",
        "import numpy as np"
      ]
    },
    {
      "cell_type": "code",
      "source": [
        "def sigmoid(z):\n",
        "  return 1/1+np.exp(-z)"
      ],
      "metadata": {
        "id": "QBs8Fr_cEHIs"
      },
      "execution_count": 17,
      "outputs": []
    },
    {
      "cell_type": "code",
      "source": [
        "def predict(x,weights):\n",
        "  x = np.insert(x, 0, 1, axis=1)\n",
        "  z=np.dot(x,weights)\n",
        "  prob=sigmoid(z)\n",
        "  pred=(prob>=0.5).astype(int)\n",
        "  return prob,pred"
      ],
      "metadata": {
        "id": "Ti7_6W1iEjJa"
      },
      "execution_count": 18,
      "outputs": []
    },
    {
      "cell_type": "code",
      "source": [
        "x = np.array([[1,2,3], [2,1,0.5], [3,2.5,1.5]])\n",
        "weights=np.array([-2.0,0.5,1.0,-0.5])\n",
        "\n",
        "print(predict(x,weights))"
      ],
      "metadata": {
        "colab": {
          "base_uri": "https://localhost:8080/"
        },
        "id": "PMoNBNr2Grs0",
        "outputId": "ade13a66-ebb4-4805-aa63-f8804d0c4e7d"
      },
      "execution_count": 19,
      "outputs": [
        {
          "output_type": "stream",
          "name": "stdout",
          "text": [
            "(array([3.71828183, 2.28402542, 1.2865048 ]), array([1, 1, 1]))\n"
          ]
        }
      ]
    },
    {
      "cell_type": "markdown",
      "source": [
        "## logistic regression using sklearn"
      ],
      "metadata": {
        "id": "xeGBXuc2JYxe"
      }
    },
    {
      "cell_type": "code",
      "source": [
        "from sklearn.datasets import load_iris\n",
        "from sklearn.linear_model import LogisticRegression\n",
        "from sklearn.model_selection import train_test_split\n",
        "x,y=load_iris(return_X_y=True,as_frame=True)\n",
        "x_train,x_test,y_train,y_test=train_test_split(x,y,test_size=0.2,random_state=42)\n",
        "lr=LogisticRegression(max_iter=1000)\n",
        "model=lr.fit(x_train,y_train)\n",
        "y_pred=model.predict(x_test)\n",
        "y_pred\n",
        "from sklearn.metrics import f1_score\n",
        "# f1_score(y_test,y_pred)"
      ],
      "metadata": {
        "id": "wSAwfjFRIAho"
      },
      "execution_count": 33,
      "outputs": []
    },
    {
      "cell_type": "code",
      "source": [
        "print(f1_score(y_test, y_pred, average='macro'))     # treats all classes equally\n",
        "print(f1_score(y_test, y_pred, average='micro'))     # considers total true/false across all classes\n",
        "print(f1_score(y_test, y_pred, average='weighted'))  # balances by class size\n"
      ],
      "metadata": {
        "id": "uVXgO-2PVBtN",
        "outputId": "a70fcbf1-e98d-48f8-f98f-c4dc5c43429e",
        "colab": {
          "base_uri": "https://localhost:8080/"
        }
      },
      "execution_count": 35,
      "outputs": [
        {
          "output_type": "stream",
          "name": "stdout",
          "text": [
            "1.0\n",
            "1.0\n",
            "1.0\n"
          ]
        }
      ]
    },
    {
      "cell_type": "code",
      "source": [],
      "metadata": {
        "id": "ZE_5TQhEWyJl"
      },
      "execution_count": null,
      "outputs": []
    }
  ]
}